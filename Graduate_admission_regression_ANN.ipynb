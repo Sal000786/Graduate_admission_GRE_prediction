{
 "cells": [
  {
   "cell_type": "code",
   "execution_count": 2,
   "id": "4202e058",
   "metadata": {},
   "outputs": [],
   "source": [
    "import pandas as pd\n",
    "import matplotlib.pyplot as plt\n",
    "import tensorflow \n",
    "from tensorflow import keras\n",
    "from keras.models import Sequential\n",
    "from keras.layers import Dense\n"
   ]
  },
  {
   "cell_type": "code",
   "execution_count": 11,
   "id": "26917853",
   "metadata": {},
   "outputs": [],
   "source": [
    "df=pd.read_csv(\"graduate_admission_dataset.csv\")"
   ]
  },
  {
   "cell_type": "code",
   "execution_count": 12,
   "id": "1e4c81fb",
   "metadata": {},
   "outputs": [
    {
     "data": {
      "text/html": [
       "<div>\n",
       "<style scoped>\n",
       "    .dataframe tbody tr th:only-of-type {\n",
       "        vertical-align: middle;\n",
       "    }\n",
       "\n",
       "    .dataframe tbody tr th {\n",
       "        vertical-align: top;\n",
       "    }\n",
       "\n",
       "    .dataframe thead th {\n",
       "        text-align: right;\n",
       "    }\n",
       "</style>\n",
       "<table border=\"1\" class=\"dataframe\">\n",
       "  <thead>\n",
       "    <tr style=\"text-align: right;\">\n",
       "      <th></th>\n",
       "      <th>Serial No.</th>\n",
       "      <th>GRE Score</th>\n",
       "      <th>TOEFL Score</th>\n",
       "      <th>University Rating</th>\n",
       "      <th>SOP</th>\n",
       "      <th>LOR</th>\n",
       "      <th>CGPA</th>\n",
       "      <th>Research</th>\n",
       "      <th>Chance of Admit</th>\n",
       "    </tr>\n",
       "  </thead>\n",
       "  <tbody>\n",
       "    <tr>\n",
       "      <th>0</th>\n",
       "      <td>1</td>\n",
       "      <td>337</td>\n",
       "      <td>118</td>\n",
       "      <td>4</td>\n",
       "      <td>4.5</td>\n",
       "      <td>4.5</td>\n",
       "      <td>9.65</td>\n",
       "      <td>1</td>\n",
       "      <td>0.92</td>\n",
       "    </tr>\n",
       "    <tr>\n",
       "      <th>1</th>\n",
       "      <td>2</td>\n",
       "      <td>324</td>\n",
       "      <td>107</td>\n",
       "      <td>4</td>\n",
       "      <td>4.0</td>\n",
       "      <td>4.5</td>\n",
       "      <td>8.87</td>\n",
       "      <td>1</td>\n",
       "      <td>0.76</td>\n",
       "    </tr>\n",
       "    <tr>\n",
       "      <th>2</th>\n",
       "      <td>3</td>\n",
       "      <td>316</td>\n",
       "      <td>104</td>\n",
       "      <td>3</td>\n",
       "      <td>3.0</td>\n",
       "      <td>3.5</td>\n",
       "      <td>8.00</td>\n",
       "      <td>1</td>\n",
       "      <td>0.72</td>\n",
       "    </tr>\n",
       "    <tr>\n",
       "      <th>3</th>\n",
       "      <td>4</td>\n",
       "      <td>322</td>\n",
       "      <td>110</td>\n",
       "      <td>3</td>\n",
       "      <td>3.5</td>\n",
       "      <td>2.5</td>\n",
       "      <td>8.67</td>\n",
       "      <td>1</td>\n",
       "      <td>0.80</td>\n",
       "    </tr>\n",
       "    <tr>\n",
       "      <th>4</th>\n",
       "      <td>5</td>\n",
       "      <td>314</td>\n",
       "      <td>103</td>\n",
       "      <td>2</td>\n",
       "      <td>2.0</td>\n",
       "      <td>3.0</td>\n",
       "      <td>8.21</td>\n",
       "      <td>0</td>\n",
       "      <td>0.65</td>\n",
       "    </tr>\n",
       "  </tbody>\n",
       "</table>\n",
       "</div>"
      ],
      "text/plain": [
       "   Serial No.  GRE Score  TOEFL Score  University Rating  SOP  LOR   CGPA  \\\n",
       "0           1        337          118                  4  4.5   4.5  9.65   \n",
       "1           2        324          107                  4  4.0   4.5  8.87   \n",
       "2           3        316          104                  3  3.0   3.5  8.00   \n",
       "3           4        322          110                  3  3.5   2.5  8.67   \n",
       "4           5        314          103                  2  2.0   3.0  8.21   \n",
       "\n",
       "   Research  Chance of Admit   \n",
       "0         1              0.92  \n",
       "1         1              0.76  \n",
       "2         1              0.72  \n",
       "3         1              0.80  \n",
       "4         0              0.65  "
      ]
     },
     "execution_count": 12,
     "metadata": {},
     "output_type": "execute_result"
    }
   ],
   "source": [
    "df.head()"
   ]
  },
  {
   "cell_type": "code",
   "execution_count": 13,
   "id": "d4ef13b4",
   "metadata": {},
   "outputs": [
    {
     "name": "stdout",
     "output_type": "stream",
     "text": [
      "<class 'pandas.core.frame.DataFrame'>\n",
      "RangeIndex: 500 entries, 0 to 499\n",
      "Data columns (total 9 columns):\n",
      " #   Column             Non-Null Count  Dtype  \n",
      "---  ------             --------------  -----  \n",
      " 0   Serial No.         500 non-null    int64  \n",
      " 1   GRE Score          500 non-null    int64  \n",
      " 2   TOEFL Score        500 non-null    int64  \n",
      " 3   University Rating  500 non-null    int64  \n",
      " 4   SOP                500 non-null    float64\n",
      " 5   LOR                500 non-null    float64\n",
      " 6   CGPA               500 non-null    float64\n",
      " 7   Research           500 non-null    int64  \n",
      " 8   Chance of Admit    500 non-null    float64\n",
      "dtypes: float64(4), int64(5)\n",
      "memory usage: 35.3 KB\n"
     ]
    }
   ],
   "source": [
    "df.info()"
   ]
  },
  {
   "cell_type": "code",
   "execution_count": 14,
   "id": "e8160f2c",
   "metadata": {},
   "outputs": [
    {
     "data": {
      "text/plain": [
       "Serial No.           0\n",
       "GRE Score            0\n",
       "TOEFL Score          0\n",
       "University Rating    0\n",
       "SOP                  0\n",
       "LOR                  0\n",
       "CGPA                 0\n",
       "Research             0\n",
       "Chance of Admit      0\n",
       "dtype: int64"
      ]
     },
     "execution_count": 14,
     "metadata": {},
     "output_type": "execute_result"
    }
   ],
   "source": [
    "df.isnull().sum()"
   ]
  },
  {
   "cell_type": "code",
   "execution_count": 15,
   "id": "0b857230",
   "metadata": {},
   "outputs": [
    {
     "data": {
      "text/plain": [
       "0"
      ]
     },
     "execution_count": 15,
     "metadata": {},
     "output_type": "execute_result"
    }
   ],
   "source": [
    "df.duplicated().sum()"
   ]
  },
  {
   "cell_type": "code",
   "execution_count": 17,
   "id": "7d08f26b",
   "metadata": {},
   "outputs": [],
   "source": [
    "df.drop(['Serial No.'],inplace=True,axis=1)"
   ]
  },
  {
   "cell_type": "code",
   "execution_count": 25,
   "id": "86714a9d",
   "metadata": {},
   "outputs": [
    {
     "data": {
      "text/html": [
       "<div>\n",
       "<style scoped>\n",
       "    .dataframe tbody tr th:only-of-type {\n",
       "        vertical-align: middle;\n",
       "    }\n",
       "\n",
       "    .dataframe tbody tr th {\n",
       "        vertical-align: top;\n",
       "    }\n",
       "\n",
       "    .dataframe thead th {\n",
       "        text-align: right;\n",
       "    }\n",
       "</style>\n",
       "<table border=\"1\" class=\"dataframe\">\n",
       "  <thead>\n",
       "    <tr style=\"text-align: right;\">\n",
       "      <th></th>\n",
       "      <th>GRE Score</th>\n",
       "      <th>TOEFL Score</th>\n",
       "      <th>University Rating</th>\n",
       "      <th>SOP</th>\n",
       "      <th>LOR</th>\n",
       "      <th>CGPA</th>\n",
       "      <th>Research</th>\n",
       "      <th>Chance of Admit</th>\n",
       "    </tr>\n",
       "  </thead>\n",
       "  <tbody>\n",
       "    <tr>\n",
       "      <th>0</th>\n",
       "      <td>337</td>\n",
       "      <td>118</td>\n",
       "      <td>4</td>\n",
       "      <td>4.5</td>\n",
       "      <td>4.5</td>\n",
       "      <td>9.65</td>\n",
       "      <td>1</td>\n",
       "      <td>0.92</td>\n",
       "    </tr>\n",
       "    <tr>\n",
       "      <th>1</th>\n",
       "      <td>324</td>\n",
       "      <td>107</td>\n",
       "      <td>4</td>\n",
       "      <td>4.0</td>\n",
       "      <td>4.5</td>\n",
       "      <td>8.87</td>\n",
       "      <td>1</td>\n",
       "      <td>0.76</td>\n",
       "    </tr>\n",
       "    <tr>\n",
       "      <th>2</th>\n",
       "      <td>316</td>\n",
       "      <td>104</td>\n",
       "      <td>3</td>\n",
       "      <td>3.0</td>\n",
       "      <td>3.5</td>\n",
       "      <td>8.00</td>\n",
       "      <td>1</td>\n",
       "      <td>0.72</td>\n",
       "    </tr>\n",
       "    <tr>\n",
       "      <th>3</th>\n",
       "      <td>322</td>\n",
       "      <td>110</td>\n",
       "      <td>3</td>\n",
       "      <td>3.5</td>\n",
       "      <td>2.5</td>\n",
       "      <td>8.67</td>\n",
       "      <td>1</td>\n",
       "      <td>0.80</td>\n",
       "    </tr>\n",
       "    <tr>\n",
       "      <th>4</th>\n",
       "      <td>314</td>\n",
       "      <td>103</td>\n",
       "      <td>2</td>\n",
       "      <td>2.0</td>\n",
       "      <td>3.0</td>\n",
       "      <td>8.21</td>\n",
       "      <td>0</td>\n",
       "      <td>0.65</td>\n",
       "    </tr>\n",
       "  </tbody>\n",
       "</table>\n",
       "</div>"
      ],
      "text/plain": [
       "   GRE Score  TOEFL Score  University Rating  SOP  LOR   CGPA  Research  \\\n",
       "0        337          118                  4  4.5   4.5  9.65         1   \n",
       "1        324          107                  4  4.0   4.5  8.87         1   \n",
       "2        316          104                  3  3.0   3.5  8.00         1   \n",
       "3        322          110                  3  3.5   2.5  8.67         1   \n",
       "4        314          103                  2  2.0   3.0  8.21         0   \n",
       "\n",
       "   Chance of Admit   \n",
       "0              0.92  \n",
       "1              0.76  \n",
       "2              0.72  \n",
       "3              0.80  \n",
       "4              0.65  "
      ]
     },
     "execution_count": 25,
     "metadata": {},
     "output_type": "execute_result"
    }
   ],
   "source": [
    "df.head()"
   ]
  },
  {
   "cell_type": "code",
   "execution_count": 27,
   "id": "3eaf291d",
   "metadata": {},
   "outputs": [],
   "source": [
    "x=df.iloc[:,:-1]\n",
    "y=df.iloc[:,-1]"
   ]
  },
  {
   "cell_type": "code",
   "execution_count": null,
   "id": "d75db60d",
   "metadata": {},
   "outputs": [],
   "source": []
  },
  {
   "cell_type": "code",
   "execution_count": 31,
   "id": "a162b20f",
   "metadata": {},
   "outputs": [
    {
     "data": {
      "text/plain": [
       "((350, 7), (150, 7), (350,), (150,))"
      ]
     },
     "execution_count": 31,
     "metadata": {},
     "output_type": "execute_result"
    }
   ],
   "source": [
    "from sklearn.model_selection import train_test_split as tts\n",
    "x_train,x_test,y_train,y_test=tts(x,y,test_size=0.3,random_state=42)\n",
    "x_train.shape,x_test.shape,y_train.shape,y_test.shape"
   ]
  },
  {
   "cell_type": "code",
   "execution_count": 33,
   "id": "6a89fac3",
   "metadata": {},
   "outputs": [],
   "source": [
    "from sklearn.preprocessing import MinMaxScaler\n",
    "scaler=MinMaxScaler()\n",
    "x_train_scaled=scaler.fit_transform(x_train)\n",
    "x_test_scaled=scaler.transform(x_test)"
   ]
  },
  {
   "cell_type": "code",
   "execution_count": 37,
   "id": "7ac14d8d",
   "metadata": {},
   "outputs": [],
   "source": [
    "model=Sequential()\n",
    "model.add(Dense(7,activation='relu',input_dim=7))\n",
    "model.add(Dense(5,activation='relu'))\n",
    "model.add(Dense(1,activation='sigmoid'))\n"
   ]
  },
  {
   "cell_type": "code",
   "execution_count": 38,
   "id": "475791f5",
   "metadata": {},
   "outputs": [
    {
     "name": "stdout",
     "output_type": "stream",
     "text": [
      "Model: \"sequential_3\"\n",
      "_________________________________________________________________\n",
      " Layer (type)                Output Shape              Param #   \n",
      "=================================================================\n",
      " dense_3 (Dense)             (None, 7)                 56        \n",
      "                                                                 \n",
      " dense_4 (Dense)             (None, 5)                 40        \n",
      "                                                                 \n",
      " dense_5 (Dense)             (None, 1)                 6         \n",
      "                                                                 \n",
      "=================================================================\n",
      "Total params: 102\n",
      "Trainable params: 102\n",
      "Non-trainable params: 0\n",
      "_________________________________________________________________\n"
     ]
    }
   ],
   "source": [
    "model.summary()"
   ]
  },
  {
   "cell_type": "code",
   "execution_count": 41,
   "id": "8a89b1eb",
   "metadata": {},
   "outputs": [],
   "source": [
    "model.compile(loss='mse',optimizer='Adam')"
   ]
  },
  {
   "cell_type": "code",
   "execution_count": 42,
   "id": "009d5381",
   "metadata": {},
   "outputs": [
    {
     "name": "stdout",
     "output_type": "stream",
     "text": [
      "Epoch 1/100\n",
      "9/9 [==============================] - 2s 51ms/step - loss: 0.0622 - val_loss: 0.0653\n",
      "Epoch 2/100\n",
      "9/9 [==============================] - 0s 11ms/step - loss: 0.0481 - val_loss: 0.0504\n",
      "Epoch 3/100\n",
      "9/9 [==============================] - 0s 11ms/step - loss: 0.0366 - val_loss: 0.0386\n",
      "Epoch 4/100\n",
      "9/9 [==============================] - 0s 13ms/step - loss: 0.0278 - val_loss: 0.0295\n",
      "Epoch 5/100\n",
      "9/9 [==============================] - 0s 17ms/step - loss: 0.0213 - val_loss: 0.0228\n",
      "Epoch 6/100\n",
      "9/9 [==============================] - 0s 11ms/step - loss: 0.0167 - val_loss: 0.0182\n",
      "Epoch 7/100\n",
      "9/9 [==============================] - 0s 11ms/step - loss: 0.0136 - val_loss: 0.0151\n",
      "Epoch 8/100\n",
      "9/9 [==============================] - 0s 12ms/step - loss: 0.0116 - val_loss: 0.0130\n",
      "Epoch 9/100\n",
      "9/9 [==============================] - 0s 11ms/step - loss: 0.0104 - val_loss: 0.0115\n",
      "Epoch 10/100\n",
      "9/9 [==============================] - 0s 11ms/step - loss: 0.0096 - val_loss: 0.0106\n",
      "Epoch 11/100\n",
      "9/9 [==============================] - 0s 11ms/step - loss: 0.0092 - val_loss: 0.0101\n",
      "Epoch 12/100\n",
      "9/9 [==============================] - 0s 11ms/step - loss: 0.0089 - val_loss: 0.0098\n",
      "Epoch 13/100\n",
      "9/9 [==============================] - 0s 11ms/step - loss: 0.0088 - val_loss: 0.0095\n",
      "Epoch 14/100\n",
      "9/9 [==============================] - 0s 11ms/step - loss: 0.0087 - val_loss: 0.0093\n",
      "Epoch 15/100\n",
      "9/9 [==============================] - 0s 10ms/step - loss: 0.0086 - val_loss: 0.0092\n",
      "Epoch 16/100\n",
      "9/9 [==============================] - 0s 11ms/step - loss: 0.0085 - val_loss: 0.0091\n",
      "Epoch 17/100\n",
      "9/9 [==============================] - 0s 13ms/step - loss: 0.0084 - val_loss: 0.0089\n",
      "Epoch 18/100\n",
      "9/9 [==============================] - 0s 11ms/step - loss: 0.0083 - val_loss: 0.0088\n",
      "Epoch 19/100\n",
      "9/9 [==============================] - 0s 10ms/step - loss: 0.0082 - val_loss: 0.0086\n",
      "Epoch 20/100\n",
      "9/9 [==============================] - 0s 10ms/step - loss: 0.0080 - val_loss: 0.0085\n",
      "Epoch 21/100\n",
      "9/9 [==============================] - 0s 11ms/step - loss: 0.0079 - val_loss: 0.0084\n",
      "Epoch 22/100\n",
      "9/9 [==============================] - 0s 11ms/step - loss: 0.0078 - val_loss: 0.0083\n",
      "Epoch 23/100\n",
      "9/9 [==============================] - 0s 11ms/step - loss: 0.0077 - val_loss: 0.0081\n",
      "Epoch 24/100\n",
      "9/9 [==============================] - 0s 11ms/step - loss: 0.0076 - val_loss: 0.0079\n",
      "Epoch 25/100\n",
      "9/9 [==============================] - 0s 11ms/step - loss: 0.0075 - val_loss: 0.0077\n",
      "Epoch 26/100\n",
      "9/9 [==============================] - 0s 12ms/step - loss: 0.0074 - val_loss: 0.0075\n",
      "Epoch 27/100\n",
      "9/9 [==============================] - 0s 11ms/step - loss: 0.0072 - val_loss: 0.0073\n",
      "Epoch 28/100\n",
      "9/9 [==============================] - 0s 10ms/step - loss: 0.0071 - val_loss: 0.0071\n",
      "Epoch 29/100\n",
      "9/9 [==============================] - 0s 10ms/step - loss: 0.0070 - val_loss: 0.0069\n",
      "Epoch 30/100\n",
      "9/9 [==============================] - 0s 11ms/step - loss: 0.0069 - val_loss: 0.0067\n",
      "Epoch 31/100\n",
      "9/9 [==============================] - 0s 10ms/step - loss: 0.0068 - val_loss: 0.0066\n",
      "Epoch 32/100\n",
      "9/9 [==============================] - 0s 12ms/step - loss: 0.0067 - val_loss: 0.0064\n",
      "Epoch 33/100\n",
      "9/9 [==============================] - 0s 12ms/step - loss: 0.0066 - val_loss: 0.0063\n",
      "Epoch 34/100\n",
      "9/9 [==============================] - 0s 11ms/step - loss: 0.0065 - val_loss: 0.0061\n",
      "Epoch 35/100\n",
      "9/9 [==============================] - 0s 11ms/step - loss: 0.0064 - val_loss: 0.0060\n",
      "Epoch 36/100\n",
      "9/9 [==============================] - 0s 11ms/step - loss: 0.0063 - val_loss: 0.0059\n",
      "Epoch 37/100\n",
      "9/9 [==============================] - 0s 11ms/step - loss: 0.0062 - val_loss: 0.0057\n",
      "Epoch 38/100\n",
      "9/9 [==============================] - 0s 11ms/step - loss: 0.0061 - val_loss: 0.0056\n",
      "Epoch 39/100\n",
      "9/9 [==============================] - 0s 11ms/step - loss: 0.0060 - val_loss: 0.0055\n",
      "Epoch 40/100\n",
      "9/9 [==============================] - 0s 11ms/step - loss: 0.0059 - val_loss: 0.0053\n",
      "Epoch 41/100\n",
      "9/9 [==============================] - 0s 15ms/step - loss: 0.0058 - val_loss: 0.0052\n",
      "Epoch 42/100\n",
      "9/9 [==============================] - 0s 16ms/step - loss: 0.0057 - val_loss: 0.0051\n",
      "Epoch 43/100\n",
      "9/9 [==============================] - 0s 11ms/step - loss: 0.0056 - val_loss: 0.0050\n",
      "Epoch 44/100\n",
      "9/9 [==============================] - 0s 11ms/step - loss: 0.0056 - val_loss: 0.0049\n",
      "Epoch 45/100\n",
      "9/9 [==============================] - 0s 15ms/step - loss: 0.0055 - val_loss: 0.0048\n",
      "Epoch 46/100\n",
      "9/9 [==============================] - 0s 14ms/step - loss: 0.0054 - val_loss: 0.0047\n",
      "Epoch 47/100\n",
      "9/9 [==============================] - 0s 11ms/step - loss: 0.0054 - val_loss: 0.0046\n",
      "Epoch 48/100\n",
      "9/9 [==============================] - 0s 11ms/step - loss: 0.0053 - val_loss: 0.0044\n",
      "Epoch 49/100\n",
      "9/9 [==============================] - 0s 10ms/step - loss: 0.0052 - val_loss: 0.0043\n",
      "Epoch 50/100\n",
      "9/9 [==============================] - 0s 11ms/step - loss: 0.0051 - val_loss: 0.0041\n",
      "Epoch 51/100\n",
      "9/9 [==============================] - 0s 11ms/step - loss: 0.0050 - val_loss: 0.0040\n",
      "Epoch 52/100\n",
      "9/9 [==============================] - 0s 10ms/step - loss: 0.0050 - val_loss: 0.0038\n",
      "Epoch 53/100\n",
      "9/9 [==============================] - 0s 12ms/step - loss: 0.0049 - val_loss: 0.0037\n",
      "Epoch 54/100\n",
      "9/9 [==============================] - 0s 12ms/step - loss: 0.0049 - val_loss: 0.0036\n",
      "Epoch 55/100\n",
      "9/9 [==============================] - 0s 13ms/step - loss: 0.0048 - val_loss: 0.0035\n",
      "Epoch 56/100\n",
      "9/9 [==============================] - 0s 12ms/step - loss: 0.0048 - val_loss: 0.0034\n",
      "Epoch 57/100\n",
      "9/9 [==============================] - 0s 12ms/step - loss: 0.0047 - val_loss: 0.0033\n",
      "Epoch 58/100\n",
      "9/9 [==============================] - 0s 10ms/step - loss: 0.0047 - val_loss: 0.0032\n",
      "Epoch 59/100\n",
      "9/9 [==============================] - 0s 11ms/step - loss: 0.0047 - val_loss: 0.0032\n",
      "Epoch 60/100\n",
      "9/9 [==============================] - 0s 11ms/step - loss: 0.0046 - val_loss: 0.0032\n",
      "Epoch 61/100\n",
      "9/9 [==============================] - 0s 13ms/step - loss: 0.0046 - val_loss: 0.0031\n",
      "Epoch 62/100\n",
      "9/9 [==============================] - 0s 12ms/step - loss: 0.0046 - val_loss: 0.0031\n",
      "Epoch 63/100\n",
      "9/9 [==============================] - 0s 11ms/step - loss: 0.0046 - val_loss: 0.0030\n",
      "Epoch 64/100\n",
      "9/9 [==============================] - 0s 12ms/step - loss: 0.0045 - val_loss: 0.0031\n",
      "Epoch 65/100\n",
      "9/9 [==============================] - 0s 11ms/step - loss: 0.0045 - val_loss: 0.0030\n",
      "Epoch 66/100\n",
      "9/9 [==============================] - 0s 12ms/step - loss: 0.0045 - val_loss: 0.0029\n",
      "Epoch 67/100\n",
      "9/9 [==============================] - 0s 11ms/step - loss: 0.0045 - val_loss: 0.0030\n",
      "Epoch 68/100\n",
      "9/9 [==============================] - 0s 12ms/step - loss: 0.0045 - val_loss: 0.0028\n",
      "Epoch 69/100\n",
      "9/9 [==============================] - 0s 12ms/step - loss: 0.0044 - val_loss: 0.0029\n",
      "Epoch 70/100\n",
      "9/9 [==============================] - 0s 11ms/step - loss: 0.0044 - val_loss: 0.0028\n",
      "Epoch 71/100\n",
      "9/9 [==============================] - 0s 11ms/step - loss: 0.0044 - val_loss: 0.0028\n",
      "Epoch 72/100\n",
      "9/9 [==============================] - 0s 11ms/step - loss: 0.0044 - val_loss: 0.0028\n",
      "Epoch 73/100\n",
      "9/9 [==============================] - 0s 11ms/step - loss: 0.0044 - val_loss: 0.0027\n",
      "Epoch 74/100\n",
      "9/9 [==============================] - 0s 11ms/step - loss: 0.0044 - val_loss: 0.0027\n",
      "Epoch 75/100\n",
      "9/9 [==============================] - 0s 11ms/step - loss: 0.0043 - val_loss: 0.0027\n",
      "Epoch 76/100\n",
      "9/9 [==============================] - 0s 13ms/step - loss: 0.0043 - val_loss: 0.0027\n",
      "Epoch 77/100\n",
      "9/9 [==============================] - 0s 13ms/step - loss: 0.0043 - val_loss: 0.0027\n",
      "Epoch 78/100\n",
      "9/9 [==============================] - 0s 11ms/step - loss: 0.0043 - val_loss: 0.0027\n",
      "Epoch 79/100\n",
      "9/9 [==============================] - 0s 13ms/step - loss: 0.0043 - val_loss: 0.0027\n",
      "Epoch 80/100\n",
      "9/9 [==============================] - 0s 13ms/step - loss: 0.0043 - val_loss: 0.0026\n",
      "Epoch 81/100\n",
      "9/9 [==============================] - 0s 13ms/step - loss: 0.0043 - val_loss: 0.0027\n",
      "Epoch 82/100\n",
      "9/9 [==============================] - 0s 29ms/step - loss: 0.0043 - val_loss: 0.0026\n",
      "Epoch 83/100\n",
      "9/9 [==============================] - 0s 14ms/step - loss: 0.0043 - val_loss: 0.0026\n"
     ]
    },
    {
     "name": "stdout",
     "output_type": "stream",
     "text": [
      "Epoch 84/100\n",
      "9/9 [==============================] - 0s 13ms/step - loss: 0.0043 - val_loss: 0.0026\n",
      "Epoch 85/100\n",
      "9/9 [==============================] - 0s 13ms/step - loss: 0.0043 - val_loss: 0.0027\n",
      "Epoch 86/100\n",
      "9/9 [==============================] - 0s 13ms/step - loss: 0.0042 - val_loss: 0.0026\n",
      "Epoch 87/100\n",
      "9/9 [==============================] - 0s 13ms/step - loss: 0.0043 - val_loss: 0.0025\n",
      "Epoch 88/100\n",
      "9/9 [==============================] - 0s 14ms/step - loss: 0.0043 - val_loss: 0.0026\n",
      "Epoch 89/100\n",
      "9/9 [==============================] - 0s 13ms/step - loss: 0.0042 - val_loss: 0.0027\n",
      "Epoch 90/100\n",
      "9/9 [==============================] - 0s 16ms/step - loss: 0.0043 - val_loss: 0.0026\n",
      "Epoch 91/100\n",
      "9/9 [==============================] - 0s 14ms/step - loss: 0.0042 - val_loss: 0.0025\n",
      "Epoch 92/100\n",
      "9/9 [==============================] - 0s 13ms/step - loss: 0.0042 - val_loss: 0.0026\n",
      "Epoch 93/100\n",
      "9/9 [==============================] - 0s 15ms/step - loss: 0.0042 - val_loss: 0.0025\n",
      "Epoch 94/100\n",
      "9/9 [==============================] - 0s 14ms/step - loss: 0.0042 - val_loss: 0.0026\n",
      "Epoch 95/100\n",
      "9/9 [==============================] - 0s 13ms/step - loss: 0.0042 - val_loss: 0.0026\n",
      "Epoch 96/100\n",
      "9/9 [==============================] - 0s 13ms/step - loss: 0.0042 - val_loss: 0.0025\n",
      "Epoch 97/100\n",
      "9/9 [==============================] - 0s 12ms/step - loss: 0.0042 - val_loss: 0.0025\n",
      "Epoch 98/100\n",
      "9/9 [==============================] - 0s 14ms/step - loss: 0.0042 - val_loss: 0.0025\n",
      "Epoch 99/100\n",
      "9/9 [==============================] - 0s 13ms/step - loss: 0.0042 - val_loss: 0.0026\n",
      "Epoch 100/100\n",
      "9/9 [==============================] - 0s 14ms/step - loss: 0.0042 - val_loss: 0.0025\n"
     ]
    }
   ],
   "source": [
    "history=model.fit(x_train_scaled,y_train,epochs=100,validation_split=0.2)"
   ]
  },
  {
   "cell_type": "code",
   "execution_count": 44,
   "id": "96816848",
   "metadata": {},
   "outputs": [
    {
     "name": "stdout",
     "output_type": "stream",
     "text": [
      "5/5 [==============================] - 0s 4ms/step\n"
     ]
    }
   ],
   "source": [
    "y_pred=model.predict(x_test_scaled)"
   ]
  },
  {
   "cell_type": "code",
   "execution_count": 50,
   "id": "a014b81d",
   "metadata": {},
   "outputs": [
    {
     "name": "stdout",
     "output_type": "stream",
     "text": [
      "0.7313718887058085\n"
     ]
    }
   ],
   "source": [
    "from sklearn.metrics import r2_score\n",
    "print(r2_score(y_pred,y_test))"
   ]
  },
  {
   "cell_type": "code",
   "execution_count": 51,
   "id": "de39f3d4",
   "metadata": {},
   "outputs": [
    {
     "data": {
      "text/plain": [
       "[<matplotlib.lines.Line2D at 0x1adcb586610>]"
      ]
     },
     "execution_count": 51,
     "metadata": {},
     "output_type": "execute_result"
    },
    {
     "data": {
      "image/png": "[encoded data removed]",
      "text/plain": [
       "<Figure size 640x480 with 1 Axes>"
      ]
     },
     "metadata": {},
     "output_type": "display_data"
    }
   ],
   "source": [
    "plt.plot(history.history['loss'])\n",
    "plt.plot(history.history['val_loss'])"
   ]
  },
  {
   "cell_type": "code",
   "execution_count": null,
   "id": "fe09ff3e",
   "metadata": {},
   "outputs": [],
   "source": []
  },
  {
   "cell_type": "code",
   "execution_count": 54,
   "id": "3f0b44c1",
   "metadata": {},
   "outputs": [],
   "source": [
    "model.save('Graduate_admission_model.h5')"
   ]
  },
  {
   "cell_type": "code",
   "execution_count": null,
   "id": "871a18c2",
   "metadata": {},
   "outputs": [],
   "source": []
  }
 ],
 "metadata": {
  "kernelspec": {
   "display_name": "Python 3 (ipykernel)",
   "language": "python",
   "name": "python3"
  },
  "language_info": {
   "codemirror_mode": {
    "name": "ipython",
    "version": 3
   },
   "file_extension": ".py",
   "mimetype": "text/x-python",
   "name": "python",
   "nbconvert_exporter": "python",
   "pygments_lexer": "ipython3",
   "version": "3.9.13"
  }
 },
 "nbformat": 4,
 "nbformat_minor": 5
}
